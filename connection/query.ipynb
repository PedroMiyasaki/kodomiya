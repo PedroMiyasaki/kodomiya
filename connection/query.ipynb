{
 "cells": [
  {
   "cell_type": "code",
   "execution_count": 1,
   "metadata": {},
   "outputs": [],
   "source": [
    "# Imports\n",
    "import duckdb\n",
    "import pandas as pd\n",
    "\n",
    "# Criar conexão\n",
    "con = duckdb.connect(database=r\"C:\\Users\\PedroMiyasaki\\OneDrive - DHAUZ\\Área de Trabalho\\Projetos\\PESSOAL\\kodomiya\\kodomiya\\db\\kodomiya.duckdb\")\n",
    "\n",
    "kb_querys = [\n",
    "    \"SELECT preco, tamanho, n_quartos, n_banheiros, n_garagem, bairro, latitude, longitude, id FROM kodomiya_chaves_na_mao.chaves_na_mao_register\",\n",
    "    \"SELECT preco, tamanho, n_quartos, n_banheiros, n_garagem, bairro, latitude, longitude, id FROM kodomiya_viva_real.viva_real_register\",\n",
    "    \"SELECT preco, tamanho, n_quartos, n_banheiros, n_garagem, bairro, latitude, longitude, id FROM kodomiya_zap_imoveis.zap_imoveis_register\"\n",
    "]\n",
    "\n",
    "# Fetch knowledge base data\n",
    "df_kb_list = [con.execute(query).fetch_df() for query in kb_querys]\n",
    "\n",
    "# Concatenate knowledge base data\n",
    "df_kb = pd.concat(df_kb_list, ignore_index=True)"
   ]
  },
  {
   "cell_type": "code",
   "execution_count": 6,
   "metadata": {},
   "outputs": [
    {
     "data": {
      "text/plain": [
       "bairro\n",
       "lamenha pequena      0.000214\n",
       "sao miguel           0.000643\n",
       "augusta              0.000857\n",
       "cascatinha           0.001929\n",
       "orleans              0.002358\n",
       "                       ...   \n",
       "xaxim                0.040943\n",
       "agua verde           0.046088\n",
       "uberaba              0.049732\n",
       "cidade industrial    0.049946\n",
       "centro               0.055734\n",
       "Name: proportion, Length: 67, dtype: float64"
      ]
     },
     "execution_count": 6,
     "metadata": {},
     "output_type": "execute_result"
    }
   ],
   "source": [
    "df_kb[\"bairro\"].value_counts(normalize=True, ascending=True)"
   ]
  },
  {
   "cell_type": "code",
   "execution_count": 8,
   "metadata": {},
   "outputs": [
    {
     "data": {
      "text/plain": [
       "<duckdb.duckdb.DuckDBPyConnection at 0x1dae65082f0>"
      ]
     },
     "execution_count": 8,
     "metadata": {},
     "output_type": "execute_result"
    }
   ],
   "source": [
    "import duckdb\n",
    "\n",
    "# Criar conexão\n",
    "con = duckdb.connect(database=r\"C:\\Users\\PedroMiyasaki\\OneDrive - DHAUZ\\Área de Trabalho\\Projetos\\PESSOAL\\kodomiya\\kodomiya\\db\\kodomiya.duckdb\")\n",
    "\n",
    "# Definir a quaery\n",
    "query = \"\"\"\n",
    "DROP SCHEMA kodomiya_leilao_imovel CASCADE;\n",
    "\"\"\"\n",
    "\n",
    "#con.execute(query)"
   ]
  },
  {
   "cell_type": "code",
   "execution_count": 11,
   "metadata": {},
   "outputs": [],
   "source": [
    "import duckdb\n",
    "from datetime import datetime\n",
    "\n",
    "# Criar conexão\n",
    "con = duckdb.connect(database=r\"C:\\Users\\PedroMiyasaki\\OneDrive - DHAUZ\\Área de Trabalho\\Projetos\\PESSOAL\\kodomiya\\kodomiya\\db\\kodomiya.duckdb\")\n",
    "\n",
    "# Executar uma query no banco\n",
    "today = datetime.now().strftime(\"%Y-%m-%d\")\n",
    "df_leilao = con.execute(f\"SELECT * FROM kodomiya_leilao_imovel.leilao_imovel_register WHERE data_primeira_praca\t< '{today}' OR data_segunda_praca < '{today}'\").fetchdf()"
   ]
  },
  {
   "cell_type": "code",
   "execution_count": 9,
   "metadata": {},
   "outputs": [
    {
     "data": {
      "text/html": [
       "<div>\n",
       "<style scoped>\n",
       "    .dataframe tbody tr th:only-of-type {\n",
       "        vertical-align: middle;\n",
       "    }\n",
       "\n",
       "    .dataframe tbody tr th {\n",
       "        vertical-align: top;\n",
       "    }\n",
       "\n",
       "    .dataframe thead th {\n",
       "        text-align: right;\n",
       "    }\n",
       "</style>\n",
       "<table border=\"1\" class=\"dataframe\">\n",
       "  <thead>\n",
       "    <tr style=\"text-align: right;\">\n",
       "      <th></th>\n",
       "      <th>bairro</th>\n",
       "      <th>rua</th>\n",
       "      <th>cidade</th>\n",
       "      <th>latitude</th>\n",
       "      <th>longitude</th>\n",
       "    </tr>\n",
       "  </thead>\n",
       "  <tbody>\n",
       "    <tr>\n",
       "      <th>0</th>\n",
       "      <td>umbara</td>\n",
       "      <td>RUA DILSON LUIZ</td>\n",
       "      <td>Curitiba</td>\n",
       "      <td>NaN</td>\n",
       "      <td>NaN</td>\n",
       "    </tr>\n",
       "    <tr>\n",
       "      <th>1</th>\n",
       "      <td>uberaba</td>\n",
       "      <td>RUA RODOLFO BERNARDELLI</td>\n",
       "      <td>Curitiba</td>\n",
       "      <td>-25.489124</td>\n",
       "      <td>-49.226351</td>\n",
       "    </tr>\n",
       "  </tbody>\n",
       "</table>\n",
       "</div>"
      ],
      "text/plain": [
       "    bairro                      rua    cidade   latitude  longitude\n",
       "0   umbara          RUA DILSON LUIZ  Curitiba        NaN        NaN\n",
       "1  uberaba  RUA RODOLFO BERNARDELLI  Curitiba -25.489124 -49.226351"
      ]
     },
     "execution_count": 9,
     "metadata": {},
     "output_type": "execute_result"
    }
   ],
   "source": [
    "df_leilao[[\"bairro\", \"rua\", \"cidade\", \"latitude\", \"longitude\"]]"
   ]
  },
  {
   "cell_type": "code",
   "execution_count": 12,
   "metadata": {},
   "outputs": [
    {
     "data": {
      "text/plain": [
       "bairro\n",
       "umbara     1\n",
       "uberaba    1\n",
       "Name: count, dtype: int64"
      ]
     },
     "execution_count": 12,
     "metadata": {},
     "output_type": "execute_result"
    }
   ],
   "source": [
    "df_leilao[\"bairro\"].value_counts()"
   ]
  },
  {
   "cell_type": "code",
   "execution_count": 5,
   "metadata": {},
   "outputs": [],
   "source": [
    "import duckdb\n",
    "from datetime import datetime\n",
    "\n",
    "# Criar conexão\n",
    "con = duckdb.connect(database=r\"C:\\Users\\PedroMiyasaki\\OneDrive - DHAUZ\\Área de Trabalho\\Projetos\\PESSOAL\\kodomiya\\kodomiya\\db\\kodomiya.duckdb\")\n",
    "\n",
    "# Executar uma query no banco\n",
    "today = datetime.now().strftime(\"%Y-%m-%d\")\n",
    "df_leilao = con.execute(f\"SELECT * FROM kodomiya_leilao_imovel.leilao_imovel_register\").fetchdf()"
   ]
  }
 ],
 "metadata": {
  "kernelspec": {
   "display_name": "kodomiya",
   "language": "python",
   "name": "python3"
  },
  "language_info": {
   "codemirror_mode": {
    "name": "ipython",
    "version": 3
   },
   "file_extension": ".py",
   "mimetype": "text/x-python",
   "name": "python",
   "nbconvert_exporter": "python",
   "pygments_lexer": "ipython3",
   "version": "3.13.2"
  }
 },
 "nbformat": 4,
 "nbformat_minor": 2
}
